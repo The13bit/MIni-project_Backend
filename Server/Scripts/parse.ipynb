{
 "cells": [
  {
   "cell_type": "code",
   "execution_count": 6,
   "metadata": {},
   "outputs": [],
   "source": [
    "import pandas as pd\n",
    "import numpy as np"
   ]
  },
  {
   "cell_type": "code",
   "execution_count": 11,
   "metadata": {},
   "outputs": [
    {
     "name": "stdout",
     "output_type": "stream",
     "text": [
      "   Std_RollNo        Std_Name Std_Branch     Std_Course  Std_StudyHours  \\\n",
      "0      240415    Tanya Gautam         MC  B.Sc 1st year            6.83   \n",
      "1      240416      Udit Sagan         MC  B.Sc 1st year            6.56   \n",
      "2      240417  Kratika Sharma         PM  B.Sc 1st year             NaN   \n",
      "3      240418    Rakesh Kumar         PM  B.Sc 1st year            5.67   \n",
      "4      240419   Ritika Katara         PM  B.Sc 1st year            8.67   \n",
      "\n",
      "   Std_Marks  \n",
      "0      78.50  \n",
      "1      76.74  \n",
      "2      78.68  \n",
      "3      71.82  \n",
      "4      84.19  \n"
     ]
    }
   ],
   "source": [
    "df=pd.read_csv('../uploads/7d1d1483464c944e73881823c17d8b96')\n",
    "print(df.head())"
   ]
  },
  {
   "cell_type": "code",
   "execution_count": 12,
   "metadata": {},
   "outputs": [
    {
     "name": "stdout",
     "output_type": "stream",
     "text": [
      "        Std_Branch  Std_Marks\n",
      "0      AGRICULTURE  80.785000\n",
      "1   APPLIED BOTANY  81.220000\n",
      "2               BC  80.400000\n",
      "3           BOTANY  79.917059\n",
      "4               BZ  74.964000\n",
      "5        CHEMISTRY  77.912917\n",
      "6               CS  78.916800\n",
      "7            MATHS  76.398421\n",
      "8               MC  75.300000\n",
      "9          PHYSICS  76.790000\n",
      "10              PM  78.230000\n",
      "11              ZC  70.660000\n",
      "12         ZOOLOGY  77.226800\n"
     ]
    }
   ],
   "source": [
    "#mean by std_branch\n",
    "df.set_index('Std_Branch', inplace=True)\n",
    "grouped=df.groupby('Std_Branch')['Std_Marks'].mean()\n",
    "grouped=grouped.reset_index()\n",
    "print(grouped)\n",
    "\n"
   ]
  }
 ],
 "metadata": {
  "kernelspec": {
   "display_name": "Python 3",
   "language": "python",
   "name": "python3"
  },
  "language_info": {
   "codemirror_mode": {
    "name": "ipython",
    "version": 3
   },
   "file_extension": ".py",
   "mimetype": "text/x-python",
   "name": "python",
   "nbconvert_exporter": "python",
   "pygments_lexer": "ipython3",
   "version": "3.11.0"
  },
  "orig_nbformat": 4
 },
 "nbformat": 4,
 "nbformat_minor": 2
}
